{
  "nbformat": 4,
  "nbformat_minor": 0,
  "metadata": {
    "colab": {
      "provenance": [],
      "authorship_tag": "ABX9TyOnWzI1D2vkBnoocGaL60Fi",
      "include_colab_link": true
    },
    "kernelspec": {
      "name": "python3",
      "display_name": "Python 3"
    },
    "language_info": {
      "name": "python"
    }
  },
  "cells": [
    {
      "cell_type": "markdown",
      "metadata": {
        "id": "view-in-github",
        "colab_type": "text"
      },
      "source": [
        "<a href=\"https://colab.research.google.com/github/chunsejin/oss2025/blob/main/%EC%82%BC%EA%B0%81%ED%98%95_%ED%8C%90%EB%8B%A8%ED%95%98%EA%B8%B0_%ED%94%84%EB%A1%9C%EA%B7%B8%EB%9E%A8.ipynb\" target=\"_parent\"><img src=\"https://colab.research.google.com/assets/colab-badge.svg\" alt=\"Open In Colab\"/></a>"
      ]
    },
    {
      "cell_type": "code",
      "execution_count": null,
      "metadata": {
        "id": "SUAvF6IXtZNj"
      },
      "outputs": [],
      "source": []
    },
    {
      "cell_type": "markdown",
      "source": [
        "# 삼각형 판단하기\n",
        "\n",
        "본 수업에서는 **삼각형의 세변의 길이**를 받아서 어떠한 삼각형인지를 알려주는 프로그램을 개발합니다. 제안하는 프로그램은 사용자로부터 3개의 입력을 받습니다.\n"
      ],
      "metadata": {
        "id": "OAlQaPQHxicR"
      }
    },
    {
      "cell_type": "code",
      "source": [
        "a = 102  # @param {type: \"number\"}\n",
        "b = 25  # @param {type: \"number\"}\n",
        "c = 10  # @param {type: \"number\"}\n",
        "date = '2010-11-24'  # @param {type: \"date\"}\n",
        "pick_me = \"monday\"  # @param ['monday', 'tuesday', 'wednesday', 'thursday']\n",
        "select_or_input = \"apples\" # @param [\"apples\", \"bananas\", \"oranges\"] {allow-input: true}\n",
        "# @markdown ---"
      ],
      "metadata": {
        "id": "B1zEUqrPzSSg"
      },
      "execution_count": 1,
      "outputs": []
    },
    {
      "cell_type": "markdown",
      "source": [
        "## 정삼각형\n",
        "\n",
        "$a = b = c$ 정삼각형 🔺"
      ],
      "metadata": {
        "id": "sqqj0X6Wymk_"
      }
    },
    {
      "cell_type": "code",
      "source": [
        "if a == b == c:\n",
        "  print(\"정삼각형\")\n",
        "else:\n",
        "  print(\"정삼각형 아님\")"
      ],
      "metadata": {
        "colab": {
          "base_uri": "https://localhost:8080/"
        },
        "id": "2VLsyEUwyGuL",
        "outputId": "278c9cb9-c7f8-4fd0-a81d-c8625a69788e"
      },
      "execution_count": 2,
      "outputs": [
        {
          "output_type": "stream",
          "name": "stdout",
          "text": [
            "정삼각형 아님\n"
          ]
        }
      ]
    }
  ]
}
